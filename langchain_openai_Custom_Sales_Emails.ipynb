{
  "nbformat": 4,
  "nbformat_minor": 0,
  "metadata": {
    "colab": {
      "provenance": [],
      "toc_visible": true,
      "authorship_tag": "ABX9TyMIXCRURVk/DQmF+7q2x12G",
      "include_colab_link": true
    },
    "kernelspec": {
      "name": "python3",
      "display_name": "Python 3"
    },
    "language_info": {
      "name": "python"
    }
  },
  "cells": [
    {
      "cell_type": "markdown",
      "metadata": {
        "id": "view-in-github",
        "colab_type": "text"
      },
      "source": [
        "<a href=\"https://colab.research.google.com/github/coolhackboy/gpt-demo/blob/main/langchain_openai_Custom_Sales_Emails.ipynb\" target=\"_parent\"><img src=\"https://colab.research.google.com/assets/colab-badge.svg\" alt=\"Open In Colab\"/></a>"
      ]
    },
    {
      "cell_type": "markdown",
      "source": [
        "# 项目描述\n",
        "♈\n",
        "介绍了如何使用 OpenAI 和 LangChain 自动地创建个性化的销售邮件。具体操作包括获取公司信息，使用自定义的 LangChain mapreduce prompts 和 prompt templates，以及最终生成一封定制的邮件。整个过程在 Y combinator startup directory 中进行演示，并提供了代码示例和讲解。\n",
        "\n",
        "♈ 在行动建议部分，提到了需要提供一些公司信息，比如它们主要从事什么业务，以便让语言模型更好地理解和生成合适的内容。同时，建议不要滥发垃圾邮件，要认真对待每一封邮件。此外，作者还介绍了一些其他有用的工具，并建议大家关注他的 Twitter 账号以获取最新消息。\n",
        "\n",
        "♈以上内容可以分为三个大部分，分别是\n",
        "1/获取信息、\n",
        "2/使用 LangChain prompts 和 prompt templates，\n",
        "3/以及生成邮件。\n",
        "\n",
        "♈通过具体案例和代码示例，详细讲解了如何操作。行动建议部分提供了实用的建议和注意事项。\n",
        "本视频介绍的内容较为新颖，可以为需要进行自动化销售的企业或个人提供参考和思路。\n",
        "\n",
        "\n",
        "【本项目描述由Chatgpt生成】"
      ],
      "metadata": {
        "id": "E1m2WzIff8N0"
      }
    },
    {
      "cell_type": "code",
      "source": [
        "!pip install langchain\n",
        "!pip install unstructured\n",
        "!pip install openai\n",
        "!pip install tiktoken"
      ],
      "metadata": {
        "id": "fFbMUKdJPOHD"
      },
      "execution_count": null,
      "outputs": []
    },
    {
      "cell_type": "code",
      "execution_count": 5,
      "metadata": {
        "id": "cA0HkHXdN2lv"
      },
      "outputs": [],
      "source": [
        "from langchain.document_loaders import UnstructuredURLLoader\n",
        "from langchain.chains.summarize import load_summarize_chain\n",
        "from langchain.llms import OpenAI\n",
        "from langchain.text_splitter import RecursiveCharacterTextSplitter\n",
        "from langchain.prompts import PromptTemplate"
      ]
    },
    {
      "cell_type": "code",
      "source": [
        "#@title openai_api_key\n",
        "openai_api_key = '' #@param {type:\"string\"}\n",
        " \n",
        "print(openai_api_key)"
      ],
      "metadata": {
        "id": "z0rjXcDcP2wH"
      },
      "execution_count": null,
      "outputs": []
    },
    {
      "cell_type": "markdown",
      "source": [
        "Load up your HTML from your company page\n"
      ],
      "metadata": {
        "id": "ZpizvpijP5a3"
      }
    },
    {
      "cell_type": "code",
      "source": [
        "def get_company_page(company_path):\n",
        "\n",
        "    y_combinator_url = f\"https://www.ycombinator.com{company_path}\"\n",
        "    \n",
        "    print (y_combinator_url)\n",
        "\n",
        "    loader = UnstructuredURLLoader(urls=[y_combinator_url])\n",
        "    return loader.load()\n",
        "\n",
        "\n",
        "# Get the data of the company you're interested in\n",
        "data = get_company_page(\"/companies/zapier\")\n",
        "    \n",
        "print (f\"You have {len(data)} document(s)\")"
      ],
      "metadata": {
        "colab": {
          "base_uri": "https://localhost:8080/"
        },
        "id": "q9NyGqG0P9Wz",
        "outputId": "b948b298-9b32-4903-cef6-06572e370031"
      },
      "execution_count": 35,
      "outputs": [
        {
          "output_type": "stream",
          "name": "stdout",
          "text": [
            "https://www.ycombinator.com/companies/zapier\n",
            "You have 1 document(s)\n"
          ]
        }
      ]
    },
    {
      "cell_type": "code",
      "source": [
        "print (f\"Preview of your data:\\n\\n{data[0].page_content}\")\n"
      ],
      "metadata": {
        "id": "sRfv0icNQ9D_"
      },
      "execution_count": null,
      "outputs": []
    },
    {
      "cell_type": "code",
      "source": [
        "# Split up the texts so you don't run into token limits\n",
        "text_splitter = RecursiveCharacterTextSplitter(\n",
        "    # Set a really small chunk size, just to show.\n",
        "    chunk_size = 800,\n",
        "    chunk_overlap  = 0\n",
        ")"
      ],
      "metadata": {
        "id": "mNI6X7MFTPhJ"
      },
      "execution_count": 30,
      "outputs": []
    },
    {
      "cell_type": "code",
      "source": [
        "docs = text_splitter.split_documents(data)\n",
        "\n",
        "print (f\"You now have {len(docs)} documents\")"
      ],
      "metadata": {
        "colab": {
          "base_uri": "https://localhost:8080/"
        },
        "id": "pzw2rN1yTP8q",
        "outputId": "45871ccf-2323-4e61-a08e-5a060b882734"
      },
      "execution_count": 37,
      "outputs": [
        {
          "output_type": "stream",
          "name": "stdout",
          "text": [
            "You now have 3 documents\n"
          ]
        }
      ]
    },
    {
      "cell_type": "markdown",
      "source": [
        "## Write your custom prompt templates\n",
        "These will be used for your specific use case:\n",
        "\n",
        "```map_prompt``` will be the prompt that is done on your first pass of your documents\n",
        "\n",
        "```combine_prompt``` will be the prompt that is used when you combine the outputs of your map *pass*"
      ],
      "metadata": {
        "id": "_yYTF2xsTX_t"
      }
    },
    {
      "cell_type": "code",
      "source": [
        "map_prompt = \"\"\"Below is a section of a website about {prospect}\n",
        "\n",
        "Write a concise summary about {prospect}. If the information is not about {prospect}, exclude it from your summary.\n",
        "\n",
        "{text}\n",
        "\n",
        "CONCISE SUMMARY:\"\"\"\n",
        "map_prompt_template = PromptTemplate(template=map_prompt, input_variables=[\"text\", \"prospect\"])\n",
        "\n"
      ],
      "metadata": {
        "id": "NRIBZR1hTZFF"
      },
      "execution_count": 18,
      "outputs": []
    },
    {
      "cell_type": "code",
      "source": [
        "combine_prompt = \"\"\"\n",
        "Your goal is to write a personalized outbound email from {sales_rep}, a sales rep at {company} to {prospect}.\n",
        "\n",
        "A good email is personalized and combines information about the two companies on how they can help each other.\n",
        "Be sure to use value selling: A sales methodology that focuses on how your product or service will provide value to the customer instead of focusing on price or solution.\n",
        "\n",
        "INFORMATION ABOUT {company}:\n",
        "{company_information}\n",
        "\n",
        "INFORMATION ABOUT {prospect}:\n",
        "{text}\n",
        "\n",
        "INCLUDE THE FOLLOWING PIECES IN YOUR RESPONSE:\n",
        "- Start the email with the sentence: \"We love that {prospect} helps teams...\" then insert what they help teams do.\n",
        "- The sentence: \"We can help you do XYZ by ABC\" Replace XYZ with what {prospect} does and ABC with what {company} does \n",
        "- A 1-2 setenece description about {company}, be brief\n",
        "- End your email with a call-to-action such as asking them to set up time to talk more\n",
        "\n",
        "YOUR RESPONSE:\n",
        "\"\"\"\n",
        "combine_prompt_template = PromptTemplate(template=combine_prompt, input_variables=[\"sales_rep\", \"company\", \"prospect\", \\\n",
        "                                                                         \"text\", \"company_information\"])\n",
        "\n"
      ],
      "metadata": {
        "id": "nVWc7mE6UJGA"
      },
      "execution_count": 19,
      "outputs": []
    },
    {
      "cell_type": "code",
      "source": [
        "company_information = \"\"\"\n",
        "* RapidRoad helps product teams build product faster\n",
        "* We have a platform that allows product teams to talk more, exchange ideas, and listen to more customers\n",
        "* Automated project tracking: RapidRoad could use machine learning algorithms to automatically track project progress, identify potential bottlenecks, and suggest ways to optimize workflows. This could help product teams stay on track and deliver faster results.\n",
        "* Collaboration tools: RapidRoad could offer built-in collaboration tools, such as shared task lists, real-time messaging, and team calendars. This would make it easier for teams to communicate and work together, even if they are in different locations or time zones.\n",
        "* Agile methodology support: RapidRoad could be specifically designed to support agile development methodologies, such as Scrum or Kanban. This could include features like sprint planning, backlog management, and burndown charts, which would help teams stay organized and focused on their goals.\n",
        "\"\"\"\n"
      ],
      "metadata": {
        "id": "KnVh9kMSVMuU"
      },
      "execution_count": 20,
      "outputs": []
    },
    {
      "cell_type": "markdown",
      "source": [
        "### LangChain Magic\n"
      ],
      "metadata": {
        "id": "e7k7Tut_V1ai"
      }
    },
    {
      "cell_type": "code",
      "source": [
        "llm = OpenAI(temperature=.7, openai_api_key=openai_api_key)\n",
        "\n",
        "chain = load_summarize_chain(llm,\n",
        "                             chain_type=\"map_reduce\",\n",
        "                             map_prompt=map_prompt_template,\n",
        "                             combine_prompt=combine_prompt_template,\n",
        "                            #  verbose=True\n",
        "                            )"
      ],
      "metadata": {
        "id": "lXRLT5fZV3Yw"
      },
      "execution_count": 67,
      "outputs": []
    },
    {
      "cell_type": "code",
      "source": [
        "output = chain({\"input_documents\": docs, # The seven docs that were created before\n",
        "                \"company\": \"RapidRoad\", \\\n",
        "                \"company_information\" : company_information,\n",
        "                \"sales_rep\" : \"Greg\", \\\n",
        "                \"prospect\" : \"Zapier\"\n",
        "               })"
      ],
      "metadata": {
        "colab": {
          "base_uri": "https://localhost:8080/"
        },
        "id": "AgOwShR6XWKy",
        "outputId": "d9ca5c3a-e934-4774-fff8-fce11ef94b09"
      },
      "execution_count": 63,
      "outputs": [
        {
          "output_type": "stream",
          "name": "stdout",
          "text": [
            "\n",
            "\n",
            "\u001b[1m> Entering new MapReduceDocumentsChain chain...\u001b[0m\n",
            "Prompt after formatting:\n",
            "\u001b[32;1m\u001b[1;3mBelow is a section of a website about Zapier\n",
            "\n",
            "Write a concise summary about Zapier. If the information is not about Zapier, exclude it from your summary.\n",
            "\n",
            "Accelerator\n",
            "\n",
            "About\n",
            "\n",
            "Apply\n",
            "\n",
            "FAQ\n",
            "\n",
            "People\n",
            "\n",
            "YC Blog\n",
            "\n",
            "Companies\n",
            "\n",
            "Startup Directory\n",
            "\n",
            "Top Companies\n",
            "\n",
            "Founder Directory\n",
            "\n",
            "Launch YC\n",
            "\n",
            "Startup Jobs\n",
            "\n",
            "All Jobs\n",
            "\n",
            "Engineering\n",
            "\n",
            "Operations\n",
            "\n",
            "Marketing\n",
            "\n",
            "Sales\n",
            "\n",
            "Career Coaching\n",
            "\n",
            "Pioneer Program 2023\n",
            "\n",
            "Startup Job Guide\n",
            "\n",
            "YC Startup Jobs Blog\n",
            "\n",
            "Upcoming Events\n",
            "\n",
            "Startup School\n",
            "\n",
            "About\n",
            "\n",
            "Co-Founder Matching\n",
            "\n",
            "Startup School Blog\n",
            "\n",
            "Library\n",
            "\n",
            "SAFE\n",
            "\n",
            "Resources\n",
            "\n",
            "Event Calendar\n",
            "\n",
            "Newsletter\n",
            "\n",
            "For Investors\n",
            "\n",
            "Hacker News\n",
            "\n",
            "Open main menu\n",
            "\n",
            "Apply for S2023 batch.\n",
            "\n",
            "Apply\n",
            "\n",
            "Home\n",
            "\n",
            "Companies\n",
            "\n",
            "Airbnb\n",
            "\n",
            "Airbnb\n",
            "\n",
            "Book accommodations around the world.\n",
            "\n",
            "Y Combinator LogoW09\n",
            "\n",
            "Public\n",
            "\n",
            "Marketplace\n",
            "\n",
            "Travel\n",
            "\n",
            "Company\n",
            "\n",
            "Jobs\n",
            "\n",
            "News\n",
            "\n",
            "http://airbnb.com\n",
            "\n",
            "Book accommodations around the world.\n",
            "\n",
            "CONCISE SUMMARY:\u001b[0m\n",
            "Prompt after formatting:\n",
            "\u001b[32;1m\u001b[1;3mBelow is a section of a website about Zapier\n",
            "\n",
            "Write a concise summary about Zapier. If the information is not about Zapier, exclude it from your summary.\n",
            "\n",
            "Founded in August of 2008 and based in San Francisco, California, Airbnb is a trusted community marketplace for people to list, discover, and book unique accommodations around the world — online or from a mobile phone. Whether an apartment for a night, a castle for a week, or a villa for a month, Airbnb connects people to unique travel experiences, at any price point, in more than 33,000 cities and 192 countries. And with world-class customer service and a growing community of users, Airbnb is the easiest way for people to monetize their extra space and showcase it to an audience of millions.\n",
            "\n",
            "CONCISE SUMMARY:\u001b[0m\n",
            "Prompt after formatting:\n",
            "\u001b[32;1m\u001b[1;3mBelow is a section of a website about Zapier\n",
            "\n",
            "Write a concise summary about Zapier. If the information is not about Zapier, exclude it from your summary.\n",
            "\n",
            "No global movement springs from individuals. It takes an entire team united behind something big. Together, we work hard, we laugh a lot, we brainstorm nonstop, we use hundreds of Post-Its a week, and we give the best high-fives in town. Headquartered in San Francisco, we have satellite offices in Dublin, London, Barcelona, Paris, Milan, Copenhagen, Berlin, Moscow, São Paolo, Sydney, and Singapore.\n",
            "\n",
            "CONCISE SUMMARY:\u001b[0m\n",
            "Prompt after formatting:\n",
            "\u001b[32;1m\u001b[1;3mBelow is a section of a website about Zapier\n",
            "\n",
            "Write a concise summary about Zapier. If the information is not about Zapier, exclude it from your summary.\n",
            "\n",
            "Latest News\n",
            "\n",
            "Brian Chesky Isn't Running Airbnb--He's 'Designing' It\n",
            "\n",
            "Mar 16, 2023\n",
            "\n",
            "Airbnb’s cofounder just donated $25M to get plastic out of the ocean\n",
            "\n",
            "Feb 02, 2023\n",
            "\n",
            "'Hocus Pocus' fans can now stay in the Sanderson Sisters' cottage : NPR\n",
            "\n",
            "Oct 06, 2022\n",
            "\n",
            "Airbnb CEO: Competitors Have the Travel Marketing Funnel All Wrong\n",
            "\n",
            "Sep 14, 2022\n",
            "\n",
            "Airbnb\n",
            "\n",
            "Founded:\n",
            "\n",
            "2008\n",
            "\n",
            "Team Size:\n",
            "\n",
            "6132\n",
            "\n",
            "Location:\n",
            "\n",
            "San Francisco\n",
            "\n",
            "Active Founders\n",
            "\n",
            "Nathan Blecharczyk, CTO\n",
            "\n",
            "CONCISE SUMMARY:\u001b[0m\n",
            "Prompt after formatting:\n",
            "\u001b[32;1m\u001b[1;3mBelow is a section of a website about Zapier\n",
            "\n",
            "Write a concise summary about Zapier. If the information is not about Zapier, exclude it from your summary.\n",
            "\n",
            "Nathan Blecharczyk is the co-founder, Chief Strategy Officer, and Chairman of Airbnb China. Nathan plays a leading role in driving key strategic initiatives across the global business. Previously he oversaw the creation of Airbnb’s engineering, data science, and performance marketing teams. Nathan became an entrepreneur in his youth, running a business while he was in high school that sold to clients in more than 20 countries. He earned a degree in Computer Science from Harvard University.\n",
            "\n",
            "Nathan Blecharczyk\n",
            "\n",
            "Airbnb\n",
            "\n",
            "Brian Chesky, CEO\n",
            "\n",
            "CONCISE SUMMARY:\u001b[0m\n",
            "Prompt after formatting:\n",
            "\u001b[32;1m\u001b[1;3mBelow is a section of a website about Zapier\n",
            "\n",
            "Write a concise summary about Zapier. If the information is not about Zapier, exclude it from your summary.\n",
            "\n",
            "Brian Chesky is the co-founder,  Head of Community, and  CEO of Airbnb, which he started with Joe Gebbia and Nathan Blecharczyk in 2008. Brian sets the company’s strategy to connect people to unique travel experiences, and drives Airbnb’s mission to create a world where anyone can belong anywhere. Originally from New York, Brian graduated from the Rhode Island School of Design where he received a Bachelor of Fine Arts in Industrial Design.\n",
            "\n",
            "Brian Chesky\n",
            "\n",
            "Airbnb\n",
            "\n",
            "Joe Gebbia, CPO\n",
            "\n",
            "CONCISE SUMMARY:\u001b[0m\n",
            "Prompt after formatting:\n",
            "\u001b[32;1m\u001b[1;3mBelow is a section of a website about Zapier\n",
            "\n",
            "Write a concise summary about Zapier. If the information is not about Zapier, exclude it from your summary.\n",
            "\n",
            "Joe Gebbia is the co-founder of Airbnb. An entrepreneur from an early age, he is obsessed with igniting new ideas. Most people don’t know that Joe began his life as an artist eventually double majoring in graphic design and industrial design. Airbnb’s groundbreaking service began in his San Francisco living room and spread to nearly 7 million listings in more than 191 countries, changing how people trust each other. Currently, he leads Samara, Airbnb’s future orientated product development team.\n",
            "\n",
            "Joe Gebbia\n",
            "\n",
            "Airbnb\n",
            "\n",
            "YC Sign Photo\n",
            "\n",
            "Footer\n",
            "\n",
            "Y Combinator\n",
            "\n",
            "Programs\n",
            "\n",
            "YC Program\n",
            "\n",
            "Startup School\n",
            "\n",
            "Work at a Startup\n",
            "\n",
            "Company\n",
            "\n",
            "YC Blog\n",
            "\n",
            "Contact\n",
            "\n",
            "Press\n",
            "\n",
            "People\n",
            "\n",
            "Careers\n",
            "\n",
            "Privacy Policy\n",
            "\n",
            "Security\n",
            "\n",
            "Terms of Use\n",
            "\n",
            "Resources\n",
            "\n",
            "Startup Directory\n",
            "\n",
            "Startup Library\n",
            "\n",
            "Investors\n",
            "\n",
            "SAFE\n",
            "\n",
            "Hacker News\n",
            "\n",
            "Launch YC\n",
            "\n",
            "CONCISE SUMMARY:\u001b[0m\n",
            "Prompt after formatting:\n",
            "\u001b[32;1m\u001b[1;3mBelow is a section of a website about Zapier\n",
            "\n",
            "Write a concise summary about Zapier. If the information is not about Zapier, exclude it from your summary.\n",
            "\n",
            "YC Deals\n",
            "\n",
            "Make something people want.\n",
            "\n",
            "Apply\n",
            "\n",
            "TwitterTwitter\n",
            "\n",
            "FacebookFacebook\n",
            "\n",
            "InstagramInstagram\n",
            "\n",
            "LinkedInLinkedIn\n",
            "\n",
            "YoutubeYouTube\n",
            "\n",
            "© 2023 Y Combinator.\n",
            "\n",
            "CONCISE SUMMARY:\u001b[0m\n",
            "\n",
            "\n",
            "\u001b[1m> Entering new LLMChain chain...\u001b[0m\n",
            "Prompt after formatting:\n",
            "\u001b[32;1m\u001b[1;3m\n",
            "Your goal is to write a personalized outbound email from Greg, a sales rep at RapidRoad to Zapier.\n",
            "\n",
            "A good email is personalized and combines information about the two companies on how they can help each other.\n",
            "Be sure to use value selling: A sales methodology that focuses on how your product or service will provide value to the customer instead of focusing on price or solution.\n",
            "\n",
            "INFORMATION ABOUT RapidRoad:\n",
            "\n",
            "* RapidRoad helps product teams build product faster\n",
            "* We have a platform that allows product teams to talk more, exchange ideas, and listen to more customers\n",
            "* Automated project tracking: RapidRoad could use machine learning algorithms to automatically track project progress, identify potential bottlenecks, and suggest ways to optimize workflows. This could help product teams stay on track and deliver faster results.\n",
            "* Collaboration tools: RapidRoad could offer built-in collaboration tools, such as shared task lists, real-time messaging, and team calendars. This would make it easier for teams to communicate and work together, even if they are in different locations or time zones.\n",
            "* Agile methodology support: RapidRoad could be specifically designed to support agile development methodologies, such as Scrum or Kanban. This could include features like sprint planning, backlog management, and burndown charts, which would help teams stay organized and focused on their goals.\n",
            "\n",
            "\n",
            "INFORMATION ABOUT Zapier:\n",
            "\n",
            "\n",
            "Zapier is an online automation tool that enables people to connect apps and automate workflows. It is used to save time and energy in managing repetitive tasks.\n",
            "\n",
            "\n",
            "\n",
            "Zapier is a platform that allows users to connect their online accounts, automating time-consuming tasks like data entry, copying and pasting, and more. It enables users to easily move information between web apps such as Gmail, Salesforce, Trello, and more.\n",
            "\n",
            " Zapier is a global movement with headquarters in San Francisco and satellite offices in 11 other cities worldwide. The team works hard and collaborates to create innovative solutions.\n",
            "\n",
            "\n",
            "\n",
            "Zapier is an online automation tool founded in 2008 and based in San Francisco. It has a team size of 6132 and is led by founders Nathan Blecharczyk and Brian Chesky.\n",
            "\n",
            "\n",
            "\n",
            "Zapier is an automation platform that enables users to create automated workflows between over 2000 web applications. Co-founder Nathan Blecharczyk is the Chief Strategy Officer and Chairman of Airbnb China. He is responsible for driving key strategic initiatives and oversaw the creation of Airbnb's engineering, data science and performance marketing teams. He earned a degree in Computer Science from Harvard University.\n",
            "\n",
            "\n",
            "\n",
            "Zapier is a platform that helps users automate tasks and workflows. It was founded by Brian Chesky, Joe Gebbia, and Nathan Blecharczyk in 2008. Brian Chesky is currently the co-founder, Head of Community, and CEO of Airbnb. He graduated from the Rhode Island School of Design with a Bachelor of Fine Arts in Industrial Design.\n",
            "\n",
            " Zapier is a platform that allows users to connect their web-based applications and automate tasks. It is used in various industries and provides a range of services to help companies streamline their processes and save time.\n",
            "\n",
            "\n",
            "\n",
            "Zapier is an online automation tool that allows users to connect web apps to automate tasks with no coding knowledge. It enables users to have an efficient workflow by connecting apps together and automating repetitive tasks.\n",
            "\n",
            "INCLUDE THE FOLLOWING PIECES IN YOUR RESPONSE:\n",
            "- Start the email with the sentence: \"We love that Zapier helps teams...\" then insert what they help teams do.\n",
            "- The sentence: \"We can help you do XYZ by ABC\" Replace XYZ with what Zapier does and ABC with what RapidRoad does \n",
            "- A 1-2 setenece description about RapidRoad, be brief\n",
            "- End your email with a call-to-action such as asking them to set up time to talk more\n",
            "\n",
            "YOUR RESPONSE:\n",
            "\u001b[0m\n",
            "\n",
            "\u001b[1m> Finished chain.\u001b[0m\n",
            "\n",
            "\u001b[1m> Finished chain.\u001b[0m\n"
          ]
        }
      ]
    },
    {
      "cell_type": "code",
      "source": [
        "print (output['output_text'])\n"
      ],
      "metadata": {
        "colab": {
          "base_uri": "https://localhost:8080/"
        },
        "id": "PMTLA9RvXzYC",
        "outputId": "14bf950e-ddea-4cfc-c906-8a40d2d7d85a"
      },
      "execution_count": 64,
      "outputs": [
        {
          "output_type": "stream",
          "name": "stdout",
          "text": [
            "\n",
            "Dear Zapier Team,\n",
            "\n",
            "We love that Zapier helps teams automate tasks and workflows, freeing up time and energy in managing repetitive tasks. We at RapidRoad believe we can help you take your automation even further. We can help you save time and energy by connecting apps and automating tasks with no coding knowledge by providing a platform that allows product teams to talk more, exchange ideas, and listen to more customers. RapidRoad's platform also offers automated project tracking, collaboration tools, and agile methodology support to help teams stay organized and focused on their goals. \n",
            "\n",
            "We believe RapidRoad will be a great addition to the Zapier platform and would love to discuss this further. Could we set up a call to discuss the potential partnership in more detail and how our automation platform can help your team?\n",
            "\n",
            "We look forward to discussing this further.\n",
            "\n",
            "Best,\n",
            "Greg \n",
            "RapidRoad Sales Rep\n"
          ]
        }
      ]
    },
    {
      "cell_type": "markdown",
      "source": [
        "### Rinse and Repeat: Loop Through Companies\n"
      ],
      "metadata": {
        "id": "V7cvrqk5ZSIP"
      }
    },
    {
      "cell_type": "code",
      "source": [
        "import pandas as pd\n"
      ],
      "metadata": {
        "id": "OtFkIEViZWh3"
      },
      "execution_count": 43,
      "outputs": []
    },
    {
      "cell_type": "code",
      "source": [
        "df_companies = pd.DataFrame({\n",
        "  'Name': ['Airbnb', 'DoorDash', \n",
        "           'Coinbase'],\n",
        "  'Link': ['/companies/airbnb', '/companies/doordash', '/companies/coinbase'],\n",
        "})"
      ],
      "metadata": {
        "id": "R619wAghbebG"
      },
      "execution_count": 65,
      "outputs": []
    },
    {
      "cell_type": "code",
      "source": [
        "df_companies\n"
      ],
      "metadata": {
        "colab": {
          "base_uri": "https://localhost:8080/",
          "height": 143
        },
        "id": "X8YqKZXqdfVZ",
        "outputId": "957f3569-a3b6-400b-9d25-b115a5d4cc76"
      },
      "execution_count": 50,
      "outputs": [
        {
          "output_type": "execute_result",
          "data": {
            "text/plain": [
              "      Naame                 Link\n",
              "0    Airbnb    /companies/airbnb\n",
              "1  DoorDash  /companies/doordash\n",
              "2  Coinbase  /companies/coinbase"
            ],
            "text/html": [
              "\n",
              "  <div id=\"df-9d2cdb52-cdbd-4c89-8675-26a6ee75cdbe\">\n",
              "    <div class=\"colab-df-container\">\n",
              "      <div>\n",
              "<style scoped>\n",
              "    .dataframe tbody tr th:only-of-type {\n",
              "        vertical-align: middle;\n",
              "    }\n",
              "\n",
              "    .dataframe tbody tr th {\n",
              "        vertical-align: top;\n",
              "    }\n",
              "\n",
              "    .dataframe thead th {\n",
              "        text-align: right;\n",
              "    }\n",
              "</style>\n",
              "<table border=\"1\" class=\"dataframe\">\n",
              "  <thead>\n",
              "    <tr style=\"text-align: right;\">\n",
              "      <th></th>\n",
              "      <th>Naame</th>\n",
              "      <th>Link</th>\n",
              "    </tr>\n",
              "  </thead>\n",
              "  <tbody>\n",
              "    <tr>\n",
              "      <th>0</th>\n",
              "      <td>Airbnb</td>\n",
              "      <td>/companies/airbnb</td>\n",
              "    </tr>\n",
              "    <tr>\n",
              "      <th>1</th>\n",
              "      <td>DoorDash</td>\n",
              "      <td>/companies/doordash</td>\n",
              "    </tr>\n",
              "    <tr>\n",
              "      <th>2</th>\n",
              "      <td>Coinbase</td>\n",
              "      <td>/companies/coinbase</td>\n",
              "    </tr>\n",
              "  </tbody>\n",
              "</table>\n",
              "</div>\n",
              "      <button class=\"colab-df-convert\" onclick=\"convertToInteractive('df-9d2cdb52-cdbd-4c89-8675-26a6ee75cdbe')\"\n",
              "              title=\"Convert this dataframe to an interactive table.\"\n",
              "              style=\"display:none;\">\n",
              "        \n",
              "  <svg xmlns=\"http://www.w3.org/2000/svg\" height=\"24px\"viewBox=\"0 0 24 24\"\n",
              "       width=\"24px\">\n",
              "    <path d=\"M0 0h24v24H0V0z\" fill=\"none\"/>\n",
              "    <path d=\"M18.56 5.44l.94 2.06.94-2.06 2.06-.94-2.06-.94-.94-2.06-.94 2.06-2.06.94zm-11 1L8.5 8.5l.94-2.06 2.06-.94-2.06-.94L8.5 2.5l-.94 2.06-2.06.94zm10 10l.94 2.06.94-2.06 2.06-.94-2.06-.94-.94-2.06-.94 2.06-2.06.94z\"/><path d=\"M17.41 7.96l-1.37-1.37c-.4-.4-.92-.59-1.43-.59-.52 0-1.04.2-1.43.59L10.3 9.45l-7.72 7.72c-.78.78-.78 2.05 0 2.83L4 21.41c.39.39.9.59 1.41.59.51 0 1.02-.2 1.41-.59l7.78-7.78 2.81-2.81c.8-.78.8-2.07 0-2.86zM5.41 20L4 18.59l7.72-7.72 1.47 1.35L5.41 20z\"/>\n",
              "  </svg>\n",
              "      </button>\n",
              "      \n",
              "  <style>\n",
              "    .colab-df-container {\n",
              "      display:flex;\n",
              "      flex-wrap:wrap;\n",
              "      gap: 12px;\n",
              "    }\n",
              "\n",
              "    .colab-df-convert {\n",
              "      background-color: #E8F0FE;\n",
              "      border: none;\n",
              "      border-radius: 50%;\n",
              "      cursor: pointer;\n",
              "      display: none;\n",
              "      fill: #1967D2;\n",
              "      height: 32px;\n",
              "      padding: 0 0 0 0;\n",
              "      width: 32px;\n",
              "    }\n",
              "\n",
              "    .colab-df-convert:hover {\n",
              "      background-color: #E2EBFA;\n",
              "      box-shadow: 0px 1px 2px rgba(60, 64, 67, 0.3), 0px 1px 3px 1px rgba(60, 64, 67, 0.15);\n",
              "      fill: #174EA6;\n",
              "    }\n",
              "\n",
              "    [theme=dark] .colab-df-convert {\n",
              "      background-color: #3B4455;\n",
              "      fill: #D2E3FC;\n",
              "    }\n",
              "\n",
              "    [theme=dark] .colab-df-convert:hover {\n",
              "      background-color: #434B5C;\n",
              "      box-shadow: 0px 1px 3px 1px rgba(0, 0, 0, 0.15);\n",
              "      filter: drop-shadow(0px 1px 2px rgba(0, 0, 0, 0.3));\n",
              "      fill: #FFFFFF;\n",
              "    }\n",
              "  </style>\n",
              "\n",
              "      <script>\n",
              "        const buttonEl =\n",
              "          document.querySelector('#df-9d2cdb52-cdbd-4c89-8675-26a6ee75cdbe button.colab-df-convert');\n",
              "        buttonEl.style.display =\n",
              "          google.colab.kernel.accessAllowed ? 'block' : 'none';\n",
              "\n",
              "        async function convertToInteractive(key) {\n",
              "          const element = document.querySelector('#df-9d2cdb52-cdbd-4c89-8675-26a6ee75cdbe');\n",
              "          const dataTable =\n",
              "            await google.colab.kernel.invokeFunction('convertToInteractive',\n",
              "                                                     [key], {});\n",
              "          if (!dataTable) return;\n",
              "\n",
              "          const docLinkHtml = 'Like what you see? Visit the ' +\n",
              "            '<a target=\"_blank\" href=https://colab.research.google.com/notebooks/data_table.ipynb>data table notebook</a>'\n",
              "            + ' to learn more about interactive tables.';\n",
              "          element.innerHTML = '';\n",
              "          dataTable['output_type'] = 'display_data';\n",
              "          await google.colab.output.renderOutput(dataTable, element);\n",
              "          const docLink = document.createElement('div');\n",
              "          docLink.innerHTML = docLinkHtml;\n",
              "          element.appendChild(docLink);\n",
              "        }\n",
              "      </script>\n",
              "    </div>\n",
              "  </div>\n",
              "  "
            ]
          },
          "metadata": {},
          "execution_count": 50
        }
      ]
    },
    {
      "cell_type": "code",
      "source": [
        "for i, company in df_companies.iterrows():\n",
        "    print (f\"{i + 1}. {company['Name']}\")\n",
        "    page_data = get_company_page(company['Link'])\n",
        "    docs = text_splitter.split_documents(page_data)\n",
        "\n",
        "    output = chain({\"input_documents\": docs, \\\n",
        "                \"company\":\"RapidRoad\", \\\n",
        "                \"sales_rep\" : \"Greg\", \\\n",
        "                \"prospect\" : company['Name'],\n",
        "                \"company_information\" : company_information\n",
        "               })\n",
        "    \n",
        "    print (output['output_text'])\n",
        "    print (\"\\n\\n\")"
      ],
      "metadata": {
        "colab": {
          "base_uri": "https://localhost:8080/"
        },
        "id": "662rkns_dj6G",
        "outputId": "ec8ded00-0509-4b4a-bd23-d21592dd8596"
      },
      "execution_count": 68,
      "outputs": [
        {
          "output_type": "stream",
          "name": "stdout",
          "text": [
            "1. Airbnb\n",
            "https://www.ycombinator.com/companies/airbnb\n",
            "\n",
            "Dear Airbnb Team,\n",
            "\n",
            "We love that Airbnb helps teams travel, explore, and experience the world in unique and meaningful ways. We believe that RapidRoad could help you take your mission to the next level.\n",
            "\n",
            "RapidRoad is a platform that helps product teams build products faster. We have a suite of tools that help teams talk more, exchange ideas, and listen to customers better. We offer automated project tracking to help teams stay on track and deliver faster results. We also have built-in collaboration tools like shared task lists, real-time messaging, and team calendars. Furthermore, we are specifically designed to support agile development methodologies, such as Scrum or Kanban.\n",
            "\n",
            "We believe that our platform could be a great addition to Airbnb and we would be honored to be a part of your mission. Let's set up a time to talk more about how RapidRoad can help you take your mission to the next level.\n",
            "\n",
            "Thank you for your time and consideration.\n",
            "\n",
            "Sincerely,\n",
            "Greg\n",
            "RapidRoad\n",
            "\n",
            "\n",
            "\n",
            "2. DoorDash\n",
            "https://www.ycombinator.com/companies/doordash\n",
            "\n",
            "Dear DoorDash Team, \n",
            "\n",
            "We love that DoorDash helps teams deliver food quickly and conveniently to customers. We can help you do that by offering a platform that allows product teams to talk more, exchange ideas, and listen to more customers. \n",
            "\n",
            "RapidRoad is a platform that helps product teams build product faster. We provide automated project tracking, collaboration tools, and agile methodology support so that teams can stay on track and deliver faster results. \n",
            "\n",
            "We'd love to chat more about how RapidRoad can help you deliver better experiences to your customers. Could we schedule a time to talk more about our platform and how we can work together?\n",
            "\n",
            "We look forward to hearing from you.\n",
            "\n",
            "Best,\n",
            "Greg \n",
            "RapidRoad\n",
            "\n",
            "\n",
            "\n",
            "3. Coinbase\n",
            "https://www.ycombinator.com/companies/coinbase\n",
            "\n",
            "Dear Coinbase team,\n",
            "\n",
            "We love that Coinbase helps teams transact with new digital currencies and make them accessible and approachable for everyone. At RapidRoad, we understand the importance of building product faster. We can help you do this by leveraging our platform, which enables product teams to talk more, exchange ideas, and listen to more customers. Our platform also includes automated project tracking, collaboration tools, and agile methodology support that would make it easier for teams to communicate and work together.\n",
            "\n",
            "Let's set up a time to talk and explore how we can work together to help you achieve your goals.\n",
            "\n",
            "Sincerely,\n",
            "\n",
            "Greg\n",
            "RapidRoad Sales Rep\n",
            "\n",
            "\n",
            "\n"
          ]
        }
      ]
    }
  ]
}